{
 "cells": [
  {
   "cell_type": "markdown",
   "id": "78288dea",
   "metadata": {},
   "source": [
    "# Graph database example with Azure OpenAI and Neo4J"
   ]
  },
  {
   "cell_type": "markdown",
   "id": "3b183087",
   "metadata": {},
   "source": [
    "You should create a freen account of Neo4J:\n",
    "https://neo4j.com/\n",
    "\n",
    "Then you can get access to the console:\n",
    "https://console.neo4j.io/"
   ]
  },
  {
   "cell_type": "markdown",
   "id": "a529c802",
   "metadata": {},
   "source": [
    "<img src=\"img/NEO4J1.jpg\">"
   ]
  },
  {
   "cell_type": "code",
   "execution_count": 1,
   "id": "d52c6d5d",
   "metadata": {},
   "outputs": [],
   "source": [
    "#%pip install neo4j"
   ]
  },
  {
   "cell_type": "code",
   "execution_count": 2,
   "id": "fa62f251",
   "metadata": {},
   "outputs": [],
   "source": [
    "import os\n",
    "import sys\n",
    "import openai\n",
    "\n",
    "from dotenv import load_dotenv\n",
    "from langchain.chains import GraphCypherQAChain\n",
    "from langchain.chains import RetrievalQA\n",
    "from langchain_community.graphs import Neo4jGraph\n",
    "from langchain_core.documents import Document\n",
    "from langchain_community.vectorstores import Neo4jVector\n",
    "from langchain_experimental.graph_transformers import LLMGraphTransformer\n",
    "from langchain_openai import AzureChatOpenAI\n",
    "from langchain_openai import AzureOpenAIEmbeddings\n",
    "from neo4j import GraphDatabase"
   ]
  },
  {
   "cell_type": "code",
   "execution_count": 3,
   "id": "33cccd75",
   "metadata": {},
   "outputs": [
    {
     "name": "stdout",
     "output_type": "stream",
     "text": [
      "Python version: 3.10.11 (main, May 16 2023, 00:28:57) [GCC 11.2.0]\n",
      "OpenAI version: 1.35.1\n"
     ]
    }
   ],
   "source": [
    "print(f\"Python version: {sys.version}\")\n",
    "print(f\"OpenAI version: {openai.__version__}\")"
   ]
  },
  {
   "cell_type": "markdown",
   "id": "c4128d19",
   "metadata": {},
   "source": [
    "## Settings"
   ]
  },
  {
   "cell_type": "code",
   "execution_count": 4,
   "id": "52b26d9b",
   "metadata": {},
   "outputs": [],
   "source": [
    "load_dotenv(\"azure.env\")\n",
    "\n",
    "# NEO4J\n",
    "NEO4J_URI = os.getenv(\"NEO4J_URI\")\n",
    "NEO4J_USERNAME = os.getenv(\"NEO4J_USERNAME\")\n",
    "NEO4J_PASSWORD = os.getenv(\"NEO4J_PASSWORD\")\n",
    "\n",
    "# Azure OpenAI\n",
    "azure_endpoint = os.getenv(\"AOAI_ENDPOINT\")\n",
    "api_key = os.getenv(\"AOAI_KEY\")\n",
    "api_version = os.getenv(\"AOAI_VERSION\")\n",
    "\n",
    "# AOAI models\n",
    "embedding_model = \"text-embedding-ada-002\"\n",
    "model = \"gpt-4o\"\n",
    "azure_deployment = \"gpt-4o\""
   ]
  },
  {
   "cell_type": "code",
   "execution_count": 5,
   "id": "beb77620",
   "metadata": {},
   "outputs": [],
   "source": [
    "os.environ[\"NEO4J_URI\"] = NEO4J_URI\n",
    "os.environ[\"NEO4J_USERNAME\"] = NEO4J_USERNAME\n",
    "os.environ[\"NEO4J_PASSWORD\"] = NEO4J_PASSWORD"
   ]
  },
  {
   "cell_type": "markdown",
   "id": "2d38431c",
   "metadata": {},
   "source": [
    "## Azure OpenAI LLM"
   ]
  },
  {
   "cell_type": "code",
   "execution_count": 6,
   "id": "73ad8e53",
   "metadata": {},
   "outputs": [],
   "source": [
    "llm = AzureChatOpenAI(\n",
    "    model=model,\n",
    "    azure_deployment=azure_deployment,\n",
    "    api_key=api_key,\n",
    "    azure_endpoint=azure_endpoint,\n",
    "    openai_api_version=api_version,\n",
    "    temperature=0,\n",
    ")"
   ]
  },
  {
   "cell_type": "code",
   "execution_count": 7,
   "id": "286f8cda",
   "metadata": {},
   "outputs": [],
   "source": [
    "#initializing the LLMTransformer model\n",
    "llm_transformer = LLMGraphTransformer(llm=llm)"
   ]
  },
  {
   "cell_type": "markdown",
   "id": "98ac2e04",
   "metadata": {},
   "source": [
    "## Text to analyse"
   ]
  },
  {
   "cell_type": "code",
   "execution_count": 8,
   "id": "14f09d5c",
   "metadata": {},
   "outputs": [
    {
     "name": "stdout",
     "output_type": "stream",
     "text": [
      "In Marseille, a police detective follows Alain Charnier, who runs a heroin-smuggling syndicate. The policeman is murdered by Charnier's hitman, Pierre Nicoli. Charnier plans to smuggle $32 million worth of heroin into the United States by hiding it in the car of his unsuspecting friend, television personality Henri Devereaux, who is traveling to New York by ship. In New York City, detectives Jimmy \"Popeye\" Doyle and Buddy \"Cloudy\" Russo go out for drinks at the Copacabana. Popeye notices Salvatore \"Sal\" Boca and his young wife, Angie, entertaining mobsters involved in narcotics. They tail the couple and establish a link between the Bocas and lawyer Joel Weinstock, a buyer in the narcotics underworld. Popeye learns that a shipment of heroin will arrive soon. The detectives convince their supervisor to wiretap the Bocas' phones. Popeye and Cloudy are joined by federal agents Mulderig and Klein.\n",
      "\n",
      "Devereaux's vehicle arrives in New York City. Boca is anxious to make the purchase while Weinstock urges patience, knowing they are being surveiled. Charnier realizes he is being surveiled as well, identifies Popeye as a detective, and escapes on a departing subway shuttle at Grand Central Station. To evade Popeye, he has Boca meet him in Washington D.C., where Boca asks for a delay to avoid the police. Charnier wants to conclude the deal quickly. On the flight back to New York City, Nicoli offers to kill Popeye, but Charnier knows that Popeye would be replaced by another policeman. Nicoli insists, however, saying they will be back in France before a replacement is assigned. Soon after, Nicoli attempts to shoot Popeye but misses. Popeye chases Nicoli, who boards an elevated train. Popeye shouts to a policeman on the train to catch Nicoli and then commandeers an automobile. He gives chase, crashing into several vehicles on the way.\n",
      "\n",
      "Realizing he is being pursued, Nicoli shoots the pursuing policeman who tries to intervene, and hijacks the motorman at gunpoint. He forces him to drive through the next station, and shoots the train conductor. The motorman has a heart attack, and they are about to slam into a stationary train when an emergency brake engages, hurling the assassin to the floor. Popeye arrives to see the killer descending from the platform. Nicoli sees Popeye, turns to run, but is shot dead. After a lengthy stakeout, Popeye impounds Devereaux's Lincoln. In a police garage, he and his team tear the car apart piece by piece, searching for the drugs, but seemingly come up empty handed. Then, Cloudy notes that the vehicle's shipping weight is 120 pounds over its listed manufacturer's weight; they realize that the contraband must still be in the car. Finally, they remove the rocker panels and discover the hidden packages of heroin. Because the original car was destroyed during the search, the police substitute a look-alike car and return it to Devereaux who in turn delivers it to Charnier.\n",
      "\n",
      "Charnier drives to an old factory on Wards Island to meet Weinstock and deliver the drugs. After Charnier has the rocker panel covers removed, Weinstock's chemist tests one of the bags and confirms its quality. Charnier removes the drugs and hides the money, concealing it inside the rocker panels of another car purchased at an auction of junk cars, which he will take back to France. Charnier and Sal drive off in the Lincoln, but hit a roadblock with a large contingent of police led by Popeye. The police chase the Lincoln back to the factory, where Boca is killed during a shootout while most of the other criminals surrender. Charnier escapes into a nearby abandoned bakery with Popeye and Cloudy in pursuit. Popeye sees a shadowy figure in the distance and opens fire too late to heed a warning, killing Mulderig. Undaunted, Popeye tells Cloudy that he will get Charnier. After reloading his gun, Popeye runs into another room and a single gunshot is heard.\n",
      "\n",
      "Title cards describe the fates of various characters: Weinstock was indicted, but his case was dismissed for \"lack of proper evidence\"; Angie Boca received a suspended sentence for an unspecified misdemeanor; Lou Boca (Sal's brother, an accessory to the handoff) received a reduced sentence; Devereaux served four years in a federal penitentiary for conspiracy; and Charnier was never caught. Popeye and Cloudy were transferred out of the narcotics division and reassigned.\n",
      "\n"
     ]
    }
   ],
   "source": [
    "with open('movie.txt', 'r') as file:\n",
    "    # Read the entire content of the file\n",
    "    text = file.read()\n",
    "\n",
    "print(text)"
   ]
  },
  {
   "cell_type": "markdown",
   "id": "ce0b04e7",
   "metadata": {},
   "source": [
    "## Loading the text into the graph database"
   ]
  },
  {
   "cell_type": "code",
   "execution_count": 9,
   "id": "51a36191",
   "metadata": {},
   "outputs": [],
   "source": [
    "documents = [Document(page_content=text)]\n",
    "graph_documents = llm_transformer.convert_to_graph_documents(documents)"
   ]
  },
  {
   "cell_type": "code",
   "execution_count": 10,
   "id": "b1651924",
   "metadata": {},
   "outputs": [
    {
     "name": "stdout",
     "output_type": "stream",
     "text": [
      "Nodes:[Node(id='Marseille', type='Place'), Node(id='Police Detective', type='Person'), Node(id='Alain Charnier', type='Person'), Node(id='Heroin-Smuggling Syndicate', type='Organization'), Node(id='Pierre Nicoli', type='Person'), Node(id='Henri Devereaux', type='Person'), Node(id='United States', type='Place'), Node(id='New York City', type='Place'), Node(id='Jimmy \"Popeye\" Doyle', type='Person'), Node(id='Buddy \"Cloudy\" Russo', type='Person'), Node(id='Copacabana', type='Place'), Node(id='Salvatore \"Sal\" Boca', type='Person'), Node(id='Angie Boca', type='Person'), Node(id='Mobsters', type='Person'), Node(id='Joel Weinstock', type='Person'), Node(id='Mulderig', type='Person'), Node(id='Klein', type='Person'), Node(id='Washington D.C.', type='Place'), Node(id='Policeman', type='Person'), Node(id='Motorman', type='Person'), Node(id='Train Conductor', type='Person'), Node(id='Lincoln', type='Object'), Node(id='Wards Island', type='Place'), Node(id='Factory', type='Place'), Node(id='Chemists', type='Person'), Node(id='Junk Cars', type='Object'), Node(id='Bakery', type='Place'), Node(id='Lou Boca', type='Person')]\n"
     ]
    }
   ],
   "source": [
    "# List of nodes\n",
    "print(f\"Nodes:{graph_documents[0].nodes}\")"
   ]
  },
  {
   "cell_type": "code",
   "execution_count": 11,
   "id": "65d16e6d",
   "metadata": {},
   "outputs": [
    {
     "name": "stdout",
     "output_type": "stream",
     "text": [
      "Relationships:[Relationship(source=Node(id='Police Detective', type='Person'), target=Node(id='Alain Charnier', type='Person'), type='FOLLOWS'), Relationship(source=Node(id='Alain Charnier', type='Person'), target=Node(id='Heroin-Smuggling Syndicate', type='Organization'), type='RUNS'), Relationship(source=Node(id='Pierre Nicoli', type='Person'), target=Node(id='Police Detective', type='Person'), type='KILLS'), Relationship(source=Node(id='Alain Charnier', type='Person'), target=Node(id='Henri Devereaux', type='Person'), type='FRIEND'), Relationship(source=Node(id='Henri Devereaux', type='Person'), target=Node(id='United States', type='Place'), type='TRAVELS_TO'), Relationship(source=Node(id='Henri Devereaux', type='Person'), target=Node(id='New York City', type='Place'), type='TRAVELS_TO'), Relationship(source=Node(id='Jimmy \"Popeye\" Doyle', type='Person'), target=Node(id='Buddy \"Cloudy\" Russo', type='Person'), type='PARTNER'), Relationship(source=Node(id='Jimmy \"Popeye\" Doyle', type='Person'), target=Node(id='Copacabana', type='Place'), type='VISITS'), Relationship(source=Node(id='Buddy \"Cloudy\" Russo', type='Person'), target=Node(id='Copacabana', type='Place'), type='VISITS'), Relationship(source=Node(id='Jimmy \"Popeye\" Doyle', type='Person'), target=Node(id='Salvatore \"Sal\" Boca', type='Person'), type='NOTICES'), Relationship(source=Node(id='Salvatore \"Sal\" Boca', type='Person'), target=Node(id='Angie Boca', type='Person'), type='MARRIED_TO'), Relationship(source=Node(id='Salvatore \"Sal\" Boca', type='Person'), target=Node(id='Mobsters', type='Person'), type='ENTERTAINS'), Relationship(source=Node(id='Jimmy \"Popeye\" Doyle', type='Person'), target=Node(id='Salvatore \"Sal\" Boca', type='Person'), type='TAILS'), Relationship(source=Node(id='Buddy \"Cloudy\" Russo', type='Person'), target=Node(id='Salvatore \"Sal\" Boca', type='Person'), type='TAILS'), Relationship(source=Node(id='Salvatore \"Sal\" Boca', type='Person'), target=Node(id='Joel Weinstock', type='Person'), type='LINKED_TO'), Relationship(source=Node(id='Jimmy \"Popeye\" Doyle', type='Person'), target=Node(id='Joel Weinstock', type='Person'), type='LEARNS_ABOUT'), Relationship(source=Node(id='Jimmy \"Popeye\" Doyle', type='Person'), target=Node(id='Buddy \"Cloudy\" Russo', type='Person'), type='CONVINCE_SUPERVISOR_WITH'), Relationship(source=Node(id='Jimmy \"Popeye\" Doyle', type='Person'), target=Node(id='Mulderig', type='Person'), type='JOINED_BY'), Relationship(source=Node(id='Buddy \"Cloudy\" Russo', type='Person'), target=Node(id='Mulderig', type='Person'), type='JOINED_BY'), Relationship(source=Node(id='Jimmy \"Popeye\" Doyle', type='Person'), target=Node(id='Klein', type='Person'), type='JOINED_BY'), Relationship(source=Node(id='Buddy \"Cloudy\" Russo', type='Person'), target=Node(id='Klein', type='Person'), type='JOINED_BY'), Relationship(source=Node(id='Salvatore \"Sal\" Boca', type='Person'), target=Node(id='Washington D.C.', type='Place'), type='TRAVELS_TO'), Relationship(source=Node(id='Alain Charnier', type='Person'), target=Node(id='Washington D.C.', type='Place'), type='TRAVELS_TO'), Relationship(source=Node(id='Pierre Nicoli', type='Person'), target=Node(id='Jimmy \"Popeye\" Doyle', type='Person'), type='ATTEMPTS_TO_KILL'), Relationship(source=Node(id='Pierre Nicoli', type='Person'), target=Node(id='Policeman', type='Person'), type='KILLS'), Relationship(source=Node(id='Pierre Nicoli', type='Person'), target=Node(id='Motorman', type='Person'), type='HIJACKS'), Relationship(source=Node(id='Pierre Nicoli', type='Person'), target=Node(id='Train Conductor', type='Person'), type='KILLS'), Relationship(source=Node(id='Jimmy \"Popeye\" Doyle', type='Person'), target=Node(id='Pierre Nicoli', type='Person'), type='KILLS'), Relationship(source=Node(id='Jimmy \"Popeye\" Doyle', type='Person'), target=Node(id='Lincoln', type='Object'), type='IMPOUNDS'), Relationship(source=Node(id='Jimmy \"Popeye\" Doyle', type='Person'), target=Node(id='Buddy \"Cloudy\" Russo', type='Person'), type='PARTNER'), Relationship(source=Node(id='Buddy \"Cloudy\" Russo', type='Person'), target=Node(id='Lincoln', type='Object'), type='INSPECTS'), Relationship(source=Node(id='Jimmy \"Popeye\" Doyle', type='Person'), target=Node(id='Lincoln', type='Object'), type='INSPECTS'), Relationship(source=Node(id='Buddy \"Cloudy\" Russo', type='Person'), target=Node(id='Henri Devereaux', type='Person'), type='RETURNS_CAR_TO'), Relationship(source=Node(id='Jimmy \"Popeye\" Doyle', type='Person'), target=Node(id='Henri Devereaux', type='Person'), type='RETURNS_CAR_TO'), Relationship(source=Node(id='Henri Devereaux', type='Person'), target=Node(id='Alain Charnier', type='Person'), type='DELIVERS_CAR_TO'), Relationship(source=Node(id='Alain Charnier', type='Person'), target=Node(id='Wards Island', type='Place'), type='TRAVELS_TO'), Relationship(source=Node(id='Alain Charnier', type='Person'), target=Node(id='Factory', type='Place'), type='TRAVELS_TO'), Relationship(source=Node(id='Alain Charnier', type='Person'), target=Node(id='Joel Weinstock', type='Person'), type='MEETS'), Relationship(source=Node(id='Joel Weinstock', type='Person'), target=Node(id='Chemists', type='Person'), type='EMPLOYS'), Relationship(source=Node(id='Alain Charnier', type='Person'), target=Node(id='Junk Cars', type='Object'), type='PURCHASES'), Relationship(source=Node(id='Alain Charnier', type='Person'), target=Node(id='France', type='Place'), type='TRAVELS_TO'), Relationship(source=Node(id='Salvatore \"Sal\" Boca', type='Person'), target=Node(id='Lincoln', type='Object'), type='DRIVES'), Relationship(source=Node(id='Alain Charnier', type='Person'), target=Node(id='Lincoln', type='Object'), type='DRIVES'), Relationship(source=Node(id='Jimmy \"Popeye\" Doyle', type='Person'), target=Node(id='Salvatore \"Sal\" Boca', type='Person'), type='KILLS'), Relationship(source=Node(id='Jimmy \"Popeye\" Doyle', type='Person'), target=Node(id='Alain Charnier', type='Person'), type='PURSUES'), Relationship(source=Node(id='Jimmy \"Popeye\" Doyle', type='Person'), target=Node(id='Mulderig', type='Person'), type='KILLS'), Relationship(source=Node(id='Jimmy \"Popeye\" Doyle', type='Person'), target=Node(id='Buddy \"Cloudy\" Russo', type='Person'), type='PARTNER'), Relationship(source=Node(id='Joel Weinstock', type='Person'), target=Node(id='Indicted', type='Legal_action'), type='SUBJECT_OF'), Relationship(source=Node(id='Joel Weinstock', type='Person'), target=Node(id='Case_Dismissed', type='Legal_action'), type='SUBJECT_OF'), Relationship(source=Node(id='Angie Boca', type='Person'), target=Node(id='Suspended_Sentence', type='Legal_action'), type='SUBJECT_OF'), Relationship(source=Node(id='Lou Boca', type='Person'), target=Node(id='Reduced_Sentence', type='Legal_action'), type='SUBJECT_OF'), Relationship(source=Node(id='Henri Devereaux', type='Person'), target=Node(id='Federal_Penitentiary', type='Place'), type='SERVES_TIME'), Relationship(source=Node(id='Henri Devereaux', type='Person'), target=Node(id='Conspiracy', type='Legal_action'), type='SUBJECT_OF'), Relationship(source=Node(id='Alain Charnier', type='Person'), target=Node(id='Never_Caught', type='Legal_action'), type='SUBJECT_OF'), Relationship(source=Node(id='Jimmy \"Popeye\" Doyle', type='Person'), target=Node(id='Narcotics_Division', type='Organization'), type='TRANSFERRED_FROM'), Relationship(source=Node(id='Buddy \"Cloudy\" Russo', type='Person'), target=Node(id='Narcotics_Division', type='Organization'), type='TRANSFERRED_FROM')]\n"
     ]
    }
   ],
   "source": [
    "# List of relationships\n",
    "print(f\"Relationships:{graph_documents[0].relationships}\")"
   ]
  },
  {
   "cell_type": "code",
   "execution_count": 12,
   "id": "d3b29bf9",
   "metadata": {},
   "outputs": [],
   "source": [
    "graph = Neo4jGraph(url=NEO4J_URI,\n",
    "                   username=NEO4J_USERNAME,\n",
    "                   password=NEO4J_PASSWORD)"
   ]
  },
  {
   "cell_type": "code",
   "execution_count": 13,
   "id": "2e4b4be3",
   "metadata": {},
   "outputs": [],
   "source": [
    "graph.add_graph_documents(graph_documents,\n",
    "                          baseEntityLabel=True,\n",
    "                          include_source=True)"
   ]
  },
  {
   "cell_type": "markdown",
   "id": "489dc1a0",
   "metadata": {},
   "source": [
    "## NEO4J user interface"
   ]
  },
  {
   "cell_type": "markdown",
   "id": "1ba9028b",
   "metadata": {},
   "source": [
    "<img src=\"img/NEO4J2.jpg\">"
   ]
  },
  {
   "cell_type": "markdown",
   "id": "9e3c645f",
   "metadata": {},
   "source": [
    "## Simple test"
   ]
  },
  {
   "cell_type": "code",
   "execution_count": 14,
   "id": "6ca750d9",
   "metadata": {},
   "outputs": [
    {
     "name": "stdout",
     "output_type": "stream",
     "text": [
      "<Record n=<Node element_id='4:4760478b-f0be-4b53-a5ac-9ef6e94ab354:0' labels=frozenset({'Document'}) properties={'id': '54f735cde0eddbe8eaa5c96c2faed08b', 'text': 'In Marseille, a police detective follows Alain Charnier, who runs a heroin-smuggling syndicate. The policeman is murdered by Charnier\\'s hitman, Pierre Nicoli. Charnier plans to smuggle $32 million worth of heroin into the United States by hiding it in the car of his unsuspecting friend, television personality Henri Devereaux, who is traveling to New York by ship. In New York City, detectives Jimmy \"Popeye\" Doyle and Buddy \"Cloudy\" Russo go out for drinks at the Copacabana. Popeye notices Salvatore \"Sal\" Boca and his young wife, Angie, entertaining mobsters involved in narcotics. They tail the couple and establish a link between the Bocas and lawyer Joel Weinstock, a buyer in the narcotics underworld. Popeye learns that a shipment of heroin will arrive soon. The detectives convince their supervisor to wiretap the Bocas\\' phones. Popeye and Cloudy are joined by federal agents Mulderig and Klein.\\n\\nDevereaux\\'s vehicle arrives in New York City. Boca is anxious to make the purchase while Weinstock urges patience, knowing they are being surveiled. Charnier realizes he is being surveiled as well, identifies Popeye as a detective, and escapes on a departing subway shuttle at Grand Central Station. To evade Popeye, he has Boca meet him in Washington D.C., where Boca asks for a delay to avoid the police. Charnier wants to conclude the deal quickly. On the flight back to New York City, Nicoli offers to kill Popeye, but Charnier knows that Popeye would be replaced by another policeman. Nicoli insists, however, saying they will be back in France before a replacement is assigned. Soon after, Nicoli attempts to shoot Popeye but misses. Popeye chases Nicoli, who boards an elevated train. Popeye shouts to a policeman on the train to catch Nicoli and then commandeers an automobile. He gives chase, crashing into several vehicles on the way.\\n\\nRealizing he is being pursued, Nicoli shoots the pursuing policeman who tries to intervene, and hijacks the motorman at gunpoint. He forces him to drive through the next station, and shoots the train conductor. The motorman has a heart attack, and they are about to slam into a stationary train when an emergency brake engages, hurling the assassin to the floor. Popeye arrives to see the killer descending from the platform. Nicoli sees Popeye, turns to run, but is shot dead. After a lengthy stakeout, Popeye impounds Devereaux\\'s Lincoln. In a police garage, he and his team tear the car apart piece by piece, searching for the drugs, but seemingly come up empty handed. Then, Cloudy notes that the vehicle\\'s shipping weight is 120 pounds over its listed manufacturer\\'s weight; they realize that the contraband must still be in the car. Finally, they remove the rocker panels and discover the hidden packages of heroin. Because the original car was destroyed during the search, the police substitute a look-alike car and return it to Devereaux who in turn delivers it to Charnier.\\n\\nCharnier drives to an old factory on Wards Island to meet Weinstock and deliver the drugs. After Charnier has the rocker panel covers removed, Weinstock\\'s chemist tests one of the bags and confirms its quality. Charnier removes the drugs and hides the money, concealing it inside the rocker panels of another car purchased at an auction of junk cars, which he will take back to France. Charnier and Sal drive off in the Lincoln, but hit a roadblock with a large contingent of police led by Popeye. The police chase the Lincoln back to the factory, where Boca is killed during a shootout while most of the other criminals surrender. Charnier escapes into a nearby abandoned bakery with Popeye and Cloudy in pursuit. Popeye sees a shadowy figure in the distance and opens fire too late to heed a warning, killing Mulderig. Undaunted, Popeye tells Cloudy that he will get Charnier. After reloading his gun, Popeye runs into another room and a single gunshot is heard.\\n\\nTitle cards describe the fates of various characters: Weinstock was indicted, but his case was dismissed for \"lack of proper evidence\"; Angie Boca received a suspended sentence for an unspecified misdemeanor; Lou Boca (Sal\\'s brother, an accessory to the handoff) received a reduced sentence; Devereaux served four years in a federal penitentiary for conspiracy; and Charnier was never caught. Popeye and Cloudy were transferred out of the narcotics division and reassigned.\\n'}>>\n"
     ]
    }
   ],
   "source": [
    "driver = GraphDatabase.driver(uri=NEO4J_URI,\n",
    "                              auth=(NEO4J_USERNAME, NEO4J_PASSWORD))\n",
    "\n",
    "session = driver.session()\n",
    "result = session.run(\"MATCH (n) RETURN n LIMIT 1\")\n",
    "\n",
    "for record in result:\n",
    "    print(record)"
   ]
  },
  {
   "cell_type": "markdown",
   "id": "669694fb",
   "metadata": {},
   "source": [
    "## Running the embeddings"
   ]
  },
  {
   "cell_type": "code",
   "execution_count": 15,
   "id": "75b96d56",
   "metadata": {},
   "outputs": [],
   "source": [
    "embeddings = AzureOpenAIEmbeddings(\n",
    "    model=embedding_model,\n",
    "    api_key=api_key,\n",
    "    azure_endpoint=azure_endpoint,\n",
    "    openai_api_version=api_version,\n",
    ")"
   ]
  },
  {
   "cell_type": "code",
   "execution_count": 16,
   "id": "b5af5433",
   "metadata": {},
   "outputs": [
    {
     "name": "stderr",
     "output_type": "stream",
     "text": [
      "Received notification from DBMS server: {severity: WARNING} {code: Neo.ClientNotification.Statement.FeatureDeprecationWarning} {category: DEPRECATION} {title: This feature is deprecated and will be removed in future versions.} {description: The query used a deprecated procedure. ('db.create.setVectorProperty' has been replaced by 'db.create.setNodeVectorProperty')} {position: line: 1, column: 70, offset: 69} for query: \"UNWIND $data AS row MATCH (n:`Document`) WHERE elementId(n) = row.id CALL db.create.setVectorProperty(n, 'embedding', row.embedding) YIELD node RETURN count(*)\"\n"
     ]
    }
   ],
   "source": [
    "vector_index = Neo4jVector.from_existing_graph(\n",
    "    embeddings,\n",
    "    search_type=\"hybrid\",\n",
    "    node_label=\"Document\",\n",
    "    text_node_properties=[\"text\"],\n",
    "    embedding_node_property=\"embedding\")"
   ]
  },
  {
   "cell_type": "markdown",
   "id": "a90842c0",
   "metadata": {},
   "source": [
    "## Testing"
   ]
  },
  {
   "cell_type": "code",
   "execution_count": 17,
   "id": "09c642c2",
   "metadata": {
    "scrolled": true
   },
   "outputs": [
    {
     "name": "stdout",
     "output_type": "stream",
     "text": [
      "\n",
      "text: In Marseille, a police detective follows Alain Charnier, who runs a heroin-smuggling syndicate. The policeman is murdered by Charnier's hitman, Pierre Nicoli. Charnier plans to smuggle $32 million worth of heroin into the United States by hiding it in the car of his unsuspecting friend, television personality Henri Devereaux, who is traveling to New York by ship. In New York City, detectives Jimmy \"Popeye\" Doyle and Buddy \"Cloudy\" Russo go out for drinks at the Copacabana. Popeye notices Salvatore \"Sal\" Boca and his young wife, Angie, entertaining mobsters involved in narcotics. They tail the couple and establish a link between the Bocas and lawyer Joel Weinstock, a buyer in the narcotics underworld. Popeye learns that a shipment of heroin will arrive soon. The detectives convince their supervisor to wiretap the Bocas' phones. Popeye and Cloudy are joined by federal agents Mulderig and Klein.\n",
      "\n",
      "Devereaux's vehicle arrives in New York City. Boca is anxious to make the purchase while Weinstock urges patience, knowing they are being surveiled. Charnier realizes he is being surveiled as well, identifies Popeye as a detective, and escapes on a departing subway shuttle at Grand Central Station. To evade Popeye, he has Boca meet him in Washington D.C., where Boca asks for a delay to avoid the police. Charnier wants to conclude the deal quickly. On the flight back to New York City, Nicoli offers to kill Popeye, but Charnier knows that Popeye would be replaced by another policeman. Nicoli insists, however, saying they will be back in France before a replacement is assigned. Soon after, Nicoli attempts to shoot Popeye but misses. Popeye chases Nicoli, who boards an elevated train. Popeye shouts to a policeman on the train to catch Nicoli and then commandeers an automobile. He gives chase, crashing into several vehicles on the way.\n",
      "\n",
      "Realizing he is being pursued, Nicoli shoots the pursuing policeman who tries to intervene, and hijacks the motorman at gunpoint. He forces him to drive through the next station, and shoots the train conductor. The motorman has a heart attack, and they are about to slam into a stationary train when an emergency brake engages, hurling the assassin to the floor. Popeye arrives to see the killer descending from the platform. Nicoli sees Popeye, turns to run, but is shot dead. After a lengthy stakeout, Popeye impounds Devereaux's Lincoln. In a police garage, he and his team tear the car apart piece by piece, searching for the drugs, but seemingly come up empty handed. Then, Cloudy notes that the vehicle's shipping weight is 120 pounds over its listed manufacturer's weight; they realize that the contraband must still be in the car. Finally, they remove the rocker panels and discover the hidden packages of heroin. Because the original car was destroyed during the search, the police substitute a look-alike car and return it to Devereaux who in turn delivers it to Charnier.\n",
      "\n",
      "Charnier drives to an old factory on Wards Island to meet Weinstock and deliver the drugs. After Charnier has the rocker panel covers removed, Weinstock's chemist tests one of the bags and confirms its quality. Charnier removes the drugs and hides the money, concealing it inside the rocker panels of another car purchased at an auction of junk cars, which he will take back to France. Charnier and Sal drive off in the Lincoln, but hit a roadblock with a large contingent of police led by Popeye. The police chase the Lincoln back to the factory, where Boca is killed during a shootout while most of the other criminals surrender. Charnier escapes into a nearby abandoned bakery with Popeye and Cloudy in pursuit. Popeye sees a shadowy figure in the distance and opens fire too late to heed a warning, killing Mulderig. Undaunted, Popeye tells Cloudy that he will get Charnier. After reloading his gun, Popeye runs into another room and a single gunshot is heard.\n",
      "\n",
      "Title cards describe the fates of various characters: Weinstock was indicted, but his case was dismissed for \"lack of proper evidence\"; Angie Boca received a suspended sentence for an unspecified misdemeanor; Lou Boca (Sal's brother, an accessory to the handoff) received a reduced sentence; Devereaux served four years in a federal penitentiary for conspiracy; and Charnier was never caught. Popeye and Cloudy were transferred out of the narcotics division and reassigned.\n",
      "\n"
     ]
    }
   ],
   "source": [
    "query = \"Who is Popeye?\"\n",
    "\n",
    "results = vector_index.similarity_search(query, k=1)\n",
    "print(results[0].page_content)"
   ]
  },
  {
   "cell_type": "markdown",
   "id": "6536638b",
   "metadata": {},
   "source": [
    "## GraphCyper QA chain"
   ]
  },
  {
   "cell_type": "code",
   "execution_count": 18,
   "id": "12523003",
   "metadata": {},
   "outputs": [
    {
     "name": "stdout",
     "output_type": "stream",
     "text": [
      "\n",
      "\n",
      "\u001b[1m> Entering new GraphCypherQAChain chain...\u001b[0m\n",
      "Generated Cypher:\n",
      "\u001b[32;1m\u001b[1;3mcypher\n",
      "MATCH (a)-[:TRAVELS_TO]->(b)\n",
      "RETURN a, b\n",
      "\u001b[0m\n",
      "Full Context:\n",
      "\u001b[32;1m\u001b[1;3m[{'a': {'id': 'Alain Charnier'}, 'b': {'id': 'Washington D.C.'}}, {'a': {'id': 'Alain Charnier'}, 'b': {'id': 'Wards Island'}}, {'a': {'id': 'Alain Charnier'}, 'b': {'id': 'Factory'}}, {'a': {'id': 'Alain Charnier'}, 'b': {'id': 'France'}}, {'a': {'id': 'Henri Devereaux'}, 'b': {'id': 'United States'}}, {'a': {'id': 'Henri Devereaux'}, 'b': {'id': 'New York City'}}, {'a': {'id': 'Salvatore \"Sal\" Boca'}, 'b': {'id': 'Washington D.C.'}}]\u001b[0m\n",
      "\n",
      "\u001b[1m> Finished chain.\u001b[0m\n"
     ]
    },
    {
     "data": {
      "text/plain": [
       "{'query': 'travels to?',\n",
       " 'result': 'Alain Charnier travels to Washington D.C., Wards Island, Factory, and France. Henri Devereaux travels to the United States and New York City. Salvatore \"Sal\" Boca travels to Washington D.C.'}"
      ]
     },
     "execution_count": 18,
     "metadata": {},
     "output_type": "execute_result"
    }
   ],
   "source": [
    "chain = GraphCypherQAChain.from_llm(graph=graph, llm=llm, verbose=True)\n",
    "\n",
    "response = chain.invoke({\"query\": \"travels to?\"})\n",
    "response"
   ]
  },
  {
   "cell_type": "markdown",
   "id": "f684817f",
   "metadata": {},
   "source": [
    "## Examples of Retrieval QA"
   ]
  },
  {
   "cell_type": "code",
   "execution_count": 19,
   "id": "7647afa6",
   "metadata": {},
   "outputs": [],
   "source": [
    "qa_chain = RetrievalQA.from_chain_type(llm,\n",
    "                                       retriever=vector_index.as_retriever())"
   ]
  },
  {
   "cell_type": "code",
   "execution_count": 20,
   "id": "5a6a2ac9",
   "metadata": {},
   "outputs": [
    {
     "name": "stdout",
     "output_type": "stream",
     "text": [
      "Popeye is a police detective.\n"
     ]
    }
   ],
   "source": [
    "result = qa_chain.invoke({\"query\": \"What is Popeye job?\"})\n",
    "print(result[\"result\"])"
   ]
  },
  {
   "cell_type": "code",
   "execution_count": 21,
   "id": "91f2a6be",
   "metadata": {},
   "outputs": [
    {
     "name": "stdout",
     "output_type": "stream",
     "text": [
      "At Bay 50th Street, Popeye Doyle chases Pierre Nicoli, who has just attempted to shoot him. Nicoli boards an elevated train, and Popeye commandeers an automobile to pursue him. During the chase, Nicoli shoots a policeman on the train who tries to intervene and hijacks the motorman at gunpoint, forcing him to drive through the next station and shooting the train conductor. The motorman has a heart attack, and the train is about to crash into a stationary train when an emergency brake engages, hurling Nicoli to the floor. Popeye arrives at Bay 50th Street to see Nicoli descending from the platform. Nicoli sees Popeye, turns to run, but is shot dead by Popeye.\n"
     ]
    }
   ],
   "source": [
    "result = qa_chain.invoke({\"query\": \"What happened in Bay 50Th Street?\"})\n",
    "print(result[\"result\"])"
   ]
  },
  {
   "cell_type": "code",
   "execution_count": 22,
   "id": "80a35697",
   "metadata": {},
   "outputs": [
    {
     "name": "stdout",
     "output_type": "stream",
     "text": [
      "Pierre Nicoli was shot dead by Popeye. After a chase that involved Nicoli hijacking an elevated train and causing chaos, Popeye arrived at the scene just as Nicoli was descending from the platform. Nicoli saw Popeye, turned to run, but was shot and killed by Popeye.\n"
     ]
    }
   ],
   "source": [
    "result = qa_chain.invoke({\"query\": \"What happened to Pierre Nicoli?\"})\n",
    "print(result[\"result\"])"
   ]
  },
  {
   "cell_type": "code",
   "execution_count": 23,
   "id": "29d19cdc",
   "metadata": {},
   "outputs": [
    {
     "name": "stdout",
     "output_type": "stream",
     "text": [
      "Popeye, whose full name is Jimmy \"Popeye\" Doyle, is a police detective in New York City. His relation to the mafia is adversarial; he is actively working to investigate and disrupt their narcotics operations. Specifically, he notices Salvatore \"Sal\" Boca and his wife Angie entertaining mobsters involved in narcotics, which leads him to tail the couple and establish a link between them and lawyer Joel Weinstock, a buyer in the narcotics underworld. Popeye's efforts are focused on uncovering and stopping the mafia's heroin smuggling activities.\n"
     ]
    }
   ],
   "source": [
    "result = qa_chain.invoke(\n",
    "    {\"query\": \"What is the relation between Popeye and the mafia?\"})\n",
    "print(result[\"result\"])"
   ]
  },
  {
   "cell_type": "code",
   "execution_count": 24,
   "id": "e6412182",
   "metadata": {},
   "outputs": [
    {
     "name": "stdout",
     "output_type": "stream",
     "text": [
      "M. Boca, whose full name is Salvatore \"Sal\" Boca, is married to Angie Boca.\n"
     ]
    }
   ],
   "source": [
    "result = qa_chain.invoke(\n",
    "    {\"query\": \"What is the relation between M. Boca and Angie?\"})\n",
    "print(result[\"result\"])"
   ]
  },
  {
   "cell_type": "code",
   "execution_count": 25,
   "id": "94bdcd12",
   "metadata": {},
   "outputs": [
    {
     "name": "stdout",
     "output_type": "stream",
     "text": [
      "Angie Boca is the wife of Salvatore \"Sal\" Boca. Popeye, whose real name is Jimmy Doyle, is a police detective who, along with his partner Buddy \"Cloudy\" Russo, is investigating the Bocas for their involvement in narcotics. Popeye notices Angie and Sal Boca entertaining mobsters and establishes a link between them and the narcotics underworld, leading to further surveillance and investigation.\n"
     ]
    }
   ],
   "source": [
    "result = qa_chain.invoke(\n",
    "    {\"query\": \"What is the relation between Angie, M. Boca and Popeye?\"})\n",
    "print(result[\"result\"])"
   ]
  },
  {
   "cell_type": "code",
   "execution_count": 26,
   "id": "9070bdd9",
   "metadata": {},
   "outputs": [
    {
     "name": "stdout",
     "output_type": "stream",
     "text": [
      "The driver of the Lincoln car is Alain Charnier.\n"
     ]
    }
   ],
   "source": [
    "result = qa_chain.invoke({\"query\": \"Who is the driver of the lincoln car?\"})\n",
    "print(result[\"result\"])"
   ]
  },
  {
   "cell_type": "code",
   "execution_count": 27,
   "id": "fa7ba5cd",
   "metadata": {},
   "outputs": [
    {
     "name": "stdout",
     "output_type": "stream",
     "text": [
      "Here are the key facts involving Popeye and Pierre Nicoli:\n",
      "\n",
      "1. **Murder Attempt**: Nicoli attempts to kill Popeye but misses.\n",
      "2. **Chase**: After the failed assassination attempt, Popeye chases Nicoli, who boards an elevated train.\n",
      "3. **Train Hijacking**: Nicoli hijacks the train, shooting a policeman and the train conductor, and forces the motorman to drive through the next station.\n",
      "4. **Confrontation**: The train eventually stops due to an emergency brake, and Nicoli descends from the platform.\n",
      "5. **Final Encounter**: Popeye arrives, sees Nicoli, and shoots him dead as Nicoli tries to run away.\n"
     ]
    }
   ],
   "source": [
    "result = qa_chain.invoke(\n",
    "    {\"query\": \"Display any facts between Popeye and Pierre Nicoli\"})\n",
    "print(result[\"result\"])"
   ]
  },
  {
   "cell_type": "code",
   "execution_count": 28,
   "id": "7d681953",
   "metadata": {},
   "outputs": [
    {
     "name": "stdout",
     "output_type": "stream",
     "text": [
      "Sure, here are the places mentioned along with their respective cities and countries:\n",
      "\n",
      "1. **Marseille, France**\n",
      "2. **New York City, United States**\n",
      "3. **Washington D.C., United States**\n",
      "4. **Grand Central Station, New York City, United States**\n",
      "5. **Wards Island, New York City, United States**\n"
     ]
    }
   ],
   "source": [
    "result = qa_chain.invoke(\n",
    "    {\"query\": \"List the places with the city and the country\"})\n",
    "print(result[\"result\"])"
   ]
  },
  {
   "cell_type": "code",
   "execution_count": 29,
   "id": "0a344691",
   "metadata": {},
   "outputs": [
    {
     "name": "stdout",
     "output_type": "stream",
     "text": [
      "Here are the names of the people mentioned in the context along with their relationships:\n",
      "\n",
      "1. **Alain Charnier** - Runs a heroin-smuggling syndicate.\n",
      "2. **Pierre Nicoli** - Charnier's hitman.\n",
      "3. **Henri Devereaux** - Television personality and unsuspecting friend of Charnier.\n",
      "4. **Jimmy \"Popeye\" Doyle** - New York City detective.\n",
      "5. **Buddy \"Cloudy\" Russo** - New York City detective and partner of Popeye.\n",
      "6. **Salvatore \"Sal\" Boca** - Involved in narcotics, linked to Charnier.\n",
      "7. **Angie Boca** - Sal's young wife.\n",
      "8. **Joel Weinstock** - Lawyer and buyer in the narcotics underworld.\n",
      "9. **Mulderig** - Federal agent.\n",
      "10. **Klein** - Federal agent.\n",
      "11. **Lou Boca** - Sal's brother and an accessory to the handoff.\n"
     ]
    }
   ],
   "source": [
    "result = qa_chain.invoke(\n",
    "    {\"query\": \"List all the people names and their relationship\"})\n",
    "print(result[\"result\"])"
   ]
  },
  {
   "cell_type": "code",
   "execution_count": 30,
   "id": "db86de67",
   "metadata": {},
   "outputs": [
    {
     "name": "stdout",
     "output_type": "stream",
     "text": [
      "À Marseille, un détective suit Alain Charnier, chef d'un réseau de trafic d'héroïne, mais est tué par le tueur à gages de Charnier, Pierre Nicoli. Charnier prévoit de faire passer de l'héroïne aux États-Unis en la cachant dans la voiture de son ami Henri Devereaux. À New York, les détectives Jimmy \"Popeye\" Doyle et Buddy \"Cloudy\" Russo découvrent le lien entre les Bocas et le trafiquant Joel Weinstock. Après une série de poursuites et de filatures, ils trouvent l'héroïne cachée dans la voiture de Devereaux. Une confrontation finale a lieu, où plusieurs criminels sont arrêtés ou tués, mais Charnier s'échappe. Popeye et Cloudy sont ensuite réaffectés hors de la division des stupéfiants.\n"
     ]
    }
   ],
   "source": [
    "result = qa_chain.invoke(\n",
    "    {\"query\": \"Summarize this in French en quelques lignes\"})\n",
    "print(result[\"result\"])"
   ]
  },
  {
   "cell_type": "code",
   "execution_count": 31,
   "id": "b2811692",
   "metadata": {},
   "outputs": [
    {
     "name": "stdout",
     "output_type": "stream",
     "text": [
      "The movie is \"The French Connection,\" directed by William Friedkin. It was released on October 7, 1971.\n"
     ]
    }
   ],
   "source": [
    "result = qa_chain.invoke({\n",
    "    \"query\":\n",
    "    \"What is the name, the director of this movie and the release date?\"\n",
    "})\n",
    "print(result[\"result\"])"
   ]
  },
  {
   "cell_type": "code",
   "execution_count": 32,
   "id": "20e99a9c",
   "metadata": {},
   "outputs": [
    {
     "name": "stdout",
     "output_type": "stream",
     "text": [
      "William Friedkin is a renowned director known for several critically acclaimed films. Here are five of his most notable movies:\n",
      "\n",
      "1. **The French Connection (1971)** - This crime thriller, which you provided context for, won five Academy Awards, including Best Picture and Best Director for Friedkin. It is famous for its intense car chase scene.\n",
      "\n",
      "2. **The Exorcist (1973)** - A landmark in the horror genre, this film about a young girl possessed by a demonic entity is considered one of the scariest movies of all time. It earned Friedkin an Academy Award nomination for Best Director.\n",
      "\n",
      "3. **Sorcerer (1977)** - A remake of the French film \"The Wages of Fear,\" this thriller about four men transporting unstable dynamite through a South American jungle has gained a cult following over the years.\n",
      "\n",
      "4. **To Live and Die in L.A. (1985)** - This neo-noir crime thriller is known for its gritty portrayal of the Los Angeles underworld and features another memorable car chase scene.\n",
      "\n",
      "5. **Bug (2006)** - A psychological horror film based on a play by Tracy Letts, it explores themes of paranoia and delusion, showcasing Friedkin's ability to create intense, claustrophobic atmospheres.\n",
      "\n",
      "These films highlight Friedkin's versatility and skill in various genres, from crime thrillers to horror.\n"
     ]
    }
   ],
   "source": [
    "result = qa_chain.invoke(\n",
    "    {\"query\": \"What are the top 5 movies made by William Friedkin?\"})\n",
    "print(result[\"result\"])"
   ]
  },
  {
   "cell_type": "code",
   "execution_count": 33,
   "id": "5dfd4d02",
   "metadata": {},
   "outputs": [
    {
     "name": "stdout",
     "output_type": "stream",
     "text": [
      "If you enjoyed the plot of the movie described, which appears to be \"The French Connection,\" you might like the following films that share similar themes of crime, police investigations, and thrilling chases:\n",
      "\n",
      "1. **Serpico (1973)** - A true story about an honest New York cop who exposes corruption within the police force.\n",
      "2. **Bullitt (1968)** - Features a San Francisco cop who is determined to find the underworld kingpin that killed the witness in his protection.\n",
      "3. **Heat (1995)** - A crime drama about a group of professional bank robbers who start to feel the heat from the LAPD when they unknowingly leave a clue at their latest heist.\n",
      "4. **Dirty Harry (1971)** - Follows a tough San Francisco cop who is determined to track down a psychopathic rooftop killer.\n",
      "5. **The Departed (2006)** - An undercover cop and a mole in the police force try to identify each other while infiltrating an Irish gang in Boston.\n",
      "6. **L.A. Confidential (1997)** - A neo-noir crime film about three very different cops investigating a series of murders in 1950s Los Angeles.\n",
      "7. **To Live and Die in L.A. (1985)** - A Secret Service agent goes after a counterfeiter who killed his partner.\n",
      "8. **The Untouchables (1987)** - The story of how federal agent Eliot Ness and his team of incorruptible agents took down Al Capone.\n",
      "9. **Training Day (2001)** - A rookie cop spends his first day as a Los Angeles narcotics officer with a rogue detective who isn't what he appears to be.\n",
      "10. **The French Connection II (1975)** - The sequel to \"The French Connection,\" where Popeye Doyle travels to France to track down Charnier.\n",
      "\n",
      "These films are known for their intense action, complex characters, and gripping narratives, much like \"The French Connection.\"\n"
     ]
    }
   ],
   "source": [
    "result = qa_chain.invoke({\"query\": \"Give me a list of similar movies\"})\n",
    "print(result[\"result\"])"
   ]
  },
  {
   "cell_type": "code",
   "execution_count": 34,
   "id": "729ac757",
   "metadata": {},
   "outputs": [
    {
     "name": "stdout",
     "output_type": "stream",
     "text": [
      "**Keywords:**\n",
      "- Marseille\n",
      "- Police detective\n",
      "- Alain Charnier\n",
      "- Heroin smuggling\n",
      "- Pierre Nicoli\n",
      "- Henri Devereaux\n",
      "- New York City\n",
      "- Jimmy \"Popeye\" Doyle\n",
      "- Buddy \"Cloudy\" Russo\n",
      "- Salvatore \"Sal\" Boca\n",
      "- Angie Boca\n",
      "- Joel Weinstock\n",
      "- Wiretap\n",
      "- Federal agents\n",
      "- Grand Central Station\n",
      "- Washington D.C.\n",
      "- Elevated train chase\n",
      "- Police stakeout\n",
      "- Hidden heroin\n",
      "- Wards Island\n",
      "- Factory shootout\n",
      "- Abandoned bakery\n",
      "- Mulderig\n",
      "- Narcotics division\n",
      "\n",
      "**Hashtags:**\n",
      "- #HeroinSmuggling\n",
      "- #PoliceDetective\n",
      "- #CrimeThriller\n",
      "- #DrugCartel\n",
      "- #UndercoverOperation\n",
      "- #NYCDetectives\n",
      "- #HighStakesChase\n",
      "- #Wiretap\n",
      "- #GrandCentralStation\n",
      "- #ElevatedTrain\n",
      "- #HiddenDrugs\n",
      "- #FactoryShootout\n",
      "- #NarcoticsDivision\n",
      "- #CrimeDrama\n",
      "- #Suspense\n",
      "- #LawEnforcement\n",
      "- #DrugBust\n",
      "- #ThrillerMovie\n"
     ]
    }
   ],
   "source": [
    "result = qa_chain.invoke({\"query\": \"Generate keywords and hashtags\"})\n",
    "print(result[\"result\"])"
   ]
  },
  {
   "cell_type": "code",
   "execution_count": null,
   "id": "ba549977",
   "metadata": {},
   "outputs": [],
   "source": []
  }
 ],
 "metadata": {
  "kernelspec": {
   "display_name": "Python 3.10 - SDK v2",
   "language": "python",
   "name": "python310-sdkv2"
  },
  "language_info": {
   "codemirror_mode": {
    "name": "ipython",
    "version": 3
   },
   "file_extension": ".py",
   "mimetype": "text/x-python",
   "name": "python",
   "nbconvert_exporter": "python",
   "pygments_lexer": "ipython3",
   "version": "3.10.11"
  }
 },
 "nbformat": 4,
 "nbformat_minor": 5
}
