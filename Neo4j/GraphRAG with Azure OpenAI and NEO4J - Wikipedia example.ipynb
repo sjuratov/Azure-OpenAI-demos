{
 "cells": [
  {
   "cell_type": "markdown",
   "id": "4f3ec10b",
   "metadata": {},
   "source": [
    "# GraphRAG with Azure OpenAI and NEO4J - Wikipedia example"
   ]
  },
  {
   "cell_type": "markdown",
   "id": "3b183087",
   "metadata": {},
   "source": [
    "https://console.neo4j.io/"
   ]
  },
  {
   "cell_type": "markdown",
   "id": "eaa54fd2",
   "metadata": {},
   "source": [
    "<img src=\"img/neo4J_vectors.jpg\">"
   ]
  },
  {
   "cell_type": "code",
   "execution_count": 1,
   "id": "d52c6d5d",
   "metadata": {},
   "outputs": [],
   "source": [
    "#%pip install neo4j"
   ]
  },
  {
   "cell_type": "code",
   "execution_count": 27,
   "id": "fa62f251",
   "metadata": {},
   "outputs": [],
   "source": [
    "import datetime\n",
    "import openai\n",
    "import os\n",
    "import sys\n",
    "import time\n",
    "\n",
    "from dotenv import load_dotenv\n",
    "from langchain.document_loaders import WikipediaLoader\n",
    "from langchain.text_splitter import CharacterTextSplitter\n",
    "from langchain.vectorstores import Neo4jVector\n",
    "from langchain_openai import AzureOpenAIEmbeddings\n",
    "from neo4j import GraphDatabase"
   ]
  },
  {
   "cell_type": "code",
   "execution_count": 3,
   "id": "33cccd75",
   "metadata": {},
   "outputs": [
    {
     "name": "stdout",
     "output_type": "stream",
     "text": [
      "Python version: 3.10.11 (main, May 16 2023, 00:28:57) [GCC 11.2.0]\n",
      "OpenAI version: 1.35.1\n"
     ]
    }
   ],
   "source": [
    "print(f\"Python version: {sys.version}\")\n",
    "print(f\"OpenAI version: {openai.__version__}\")"
   ]
  },
  {
   "cell_type": "markdown",
   "id": "609ef7d9",
   "metadata": {},
   "source": [
    "## Settings"
   ]
  },
  {
   "cell_type": "code",
   "execution_count": 4,
   "id": "52b26d9b",
   "metadata": {},
   "outputs": [],
   "source": [
    "load_dotenv(\"azure.env\")\n",
    "\n",
    "NEO4J_URI = os.getenv(\"NEO4J_URI\")\n",
    "NEO4J_USERNAME = os.getenv(\"NEO4J_USERNAME\")\n",
    "NEO4J_PASSWORD = os.getenv(\"NEO4J_PASSWORD\")\n",
    "\n",
    "azure_endpoint = os.getenv(\"AOAI_ENDPOINT\")\n",
    "api_key = os.getenv(\"AOAI_KEY\")\n",
    "api_version = os.getenv(\"AOAI_VERSION\")"
   ]
  },
  {
   "cell_type": "code",
   "execution_count": 5,
   "id": "beb77620",
   "metadata": {},
   "outputs": [],
   "source": [
    "os.environ[\"NEO4J_URI\"] = NEO4J_URI\n",
    "os.environ[\"NEO4J_USERNAME\"] = NEO4J_USERNAME\n",
    "os.environ[\"NEO4J_PASSWORD\"] = NEO4J_PASSWORD"
   ]
  },
  {
   "cell_type": "code",
   "execution_count": 6,
   "id": "e9aa3bfb",
   "metadata": {},
   "outputs": [],
   "source": [
    "embedding_model = \"text-embedding-ada-002\"\n",
    "model = \"gpt-4o\"\n",
    "azure_deployment = \"gpt-4o\""
   ]
  },
  {
   "cell_type": "markdown",
   "id": "a30162b8",
   "metadata": {},
   "source": [
    "## Helper functions"
   ]
  },
  {
   "cell_type": "code",
   "execution_count": 7,
   "id": "fe3ae711",
   "metadata": {},
   "outputs": [],
   "source": [
    "def get_wikipedia_data(query: str):\n",
    "    \"\"\"\n",
    "    Get data from Wikipedia\n",
    "    \"\"\"\n",
    "    print(\"Get wikipedia data using query:\", query)\n",
    "    docs = WikipediaLoader(query=query).load()\n",
    "    print(\"Done\")\n",
    "\n",
    "    return docs"
   ]
  },
  {
   "cell_type": "code",
   "execution_count": 8,
   "id": "09ddc50a",
   "metadata": {},
   "outputs": [],
   "source": [
    "def process_data(docs):\n",
    "    \"\"\"\n",
    "    Chunk data\n",
    "    \"\"\"\n",
    "    print(\"Chunking the data...\")\n",
    "\n",
    "    # chunking\n",
    "    text_splitter = CharacterTextSplitter.from_tiktoken_encoder(\n",
    "        chunk_size=1000,\n",
    "        chunk_overlap=40,\n",
    "    )\n",
    "    # Chunk the doc\n",
    "    documents = text_splitter.split_documents(docs)\n",
    "\n",
    "    for d in documents:\n",
    "        del d.metadata[\"summary\"]\n",
    "\n",
    "    print(\"Done\")\n",
    "\n",
    "    return documents"
   ]
  },
  {
   "cell_type": "code",
   "execution_count": 9,
   "id": "475a8ab4",
   "metadata": {},
   "outputs": [],
   "source": [
    "def store_data_neo4j(documents):\n",
    "    \"\"\"\n",
    "    Store and index text with Neo4j\n",
    "    \"\"\"\n",
    "    print(\"Storing data to NEO4J...\")\n",
    "\n",
    "    Neo4jVector.from_documents(\n",
    "        documents,\n",
    "        embeddings,\n",
    "        url=NEO4J_URI,\n",
    "        username=NEO4J_USERNAME,\n",
    "        password=NEO4J_PASSWORD,\n",
    "    )\n",
    "\n",
    "    print(\"Done\")"
   ]
  },
  {
   "cell_type": "code",
   "execution_count": 10,
   "id": "9ab4f4b1",
   "metadata": {},
   "outputs": [],
   "source": [
    "def init_neo4j_vector(index_name):\n",
    "    \"\"\"\n",
    "    Function to instantiate a Neo4j vector from an existing vector\n",
    "    \"\"\"\n",
    "    neo4j_vector = Neo4jVector.from_existing_index(\n",
    "        embeddings,\n",
    "        url=NEO4J_URI,\n",
    "        username=NEO4J_USERNAME,\n",
    "        password=NEO4J_PASSWORD,\n",
    "        index_name=index_name,\n",
    "    )\n",
    "\n",
    "    return neo4j_vector"
   ]
  },
  {
   "cell_type": "code",
   "execution_count": 37,
   "id": "bec4e51f",
   "metadata": {},
   "outputs": [],
   "source": [
    "def ask_neo4j_vector(index_name, query):\n",
    "    \"\"\"\n",
    "    Query on NEO4J\n",
    "    \"\"\"\n",
    "    \n",
    "    start_time = datetime.datetime.now()\n",
    "    print(\"\\033[1;31;35m\")\n",
    "    print(f\"Your query: {query}\")\n",
    "    print(\"\\033[1;31;34m\")\n",
    "\n",
    "    try:\n",
    "        neo4j_vector = init_neo4j_vector(index_name)\n",
    "        results = similarity_search(neo4j_vector, query)\n",
    "        neo4j_vector._driver.close()\n",
    "        print(results[0].page_content)\n",
    "        time_difference = datetime.datetime.now() - start_time\n",
    "        time_difference_ms = round(time_difference.total_seconds() * 1000)\n",
    "\n",
    "        print(\"\\033[1;31;32m\")\n",
    "        print(f\"Powered by Azure OpenAI & NEO4J. Done in {time_difference_ms} ms\")\n",
    "\n",
    "    except Exception as e:\n",
    "        print(f\"[ERROR] {e}\")"
   ]
  },
  {
   "cell_type": "code",
   "execution_count": 12,
   "id": "4f92e9e8",
   "metadata": {},
   "outputs": [],
   "source": [
    "def similarity_search(neo4j_vector, query):\n",
    "    \"\"\"\n",
    "    Function to perform a vector similarity search.\n",
    "    \"\"\"\n",
    "    try:\n",
    "        results = neo4j_vector.similarity_search(query)\n",
    "\n",
    "    except Exception as e:\n",
    "        print(f\"[ERROR] {e}\")\n",
    "\n",
    "    return results"
   ]
  },
  {
   "cell_type": "markdown",
   "id": "001cc156",
   "metadata": {},
   "source": [
    "## Embedddings"
   ]
  },
  {
   "cell_type": "code",
   "execution_count": 13,
   "id": "ebf88639",
   "metadata": {},
   "outputs": [],
   "source": [
    "embeddings = AzureOpenAIEmbeddings(\n",
    "    model=embedding_model,\n",
    "    api_key=api_key,\n",
    "    azure_endpoint=azure_endpoint,\n",
    "    openai_api_version=api_version,\n",
    ")"
   ]
  },
  {
   "cell_type": "code",
   "execution_count": 14,
   "id": "dca423a0",
   "metadata": {},
   "outputs": [],
   "source": [
    "index = \"vector\""
   ]
  },
  {
   "cell_type": "markdown",
   "id": "c2ccbc0e",
   "metadata": {},
   "source": [
    "## Example"
   ]
  },
  {
   "cell_type": "markdown",
   "id": "4da8d255",
   "metadata": {},
   "source": [
    "### Get wikipedia data"
   ]
  },
  {
   "cell_type": "code",
   "execution_count": 15,
   "id": "f6c4cdec",
   "metadata": {},
   "outputs": [],
   "source": [
    "wikipedia_query = \"OpenAI\""
   ]
  },
  {
   "cell_type": "code",
   "execution_count": 16,
   "id": "6cf4d3b9",
   "metadata": {},
   "outputs": [
    {
     "name": "stdout",
     "output_type": "stream",
     "text": [
      "Get wikipedia data using query: OpenAI\n",
      "Done\n"
     ]
    }
   ],
   "source": [
    "docs = get_wikipedia_data(wikipedia_query)"
   ]
  },
  {
   "cell_type": "markdown",
   "id": "8ca55280",
   "metadata": {},
   "source": [
    "### Processing data"
   ]
  },
  {
   "cell_type": "code",
   "execution_count": 17,
   "id": "a41f1718",
   "metadata": {},
   "outputs": [
    {
     "name": "stdout",
     "output_type": "stream",
     "text": [
      "Chunking the data...\n",
      "Done\n"
     ]
    }
   ],
   "source": [
    "processed_docs = process_data(docs)"
   ]
  },
  {
   "cell_type": "markdown",
   "id": "ec9c151a",
   "metadata": {},
   "source": [
    "### Storing data into NEO4J"
   ]
  },
  {
   "cell_type": "code",
   "execution_count": 18,
   "id": "a15f8845",
   "metadata": {},
   "outputs": [
    {
     "name": "stdout",
     "output_type": "stream",
     "text": [
      "Storing data to NEO4J...\n"
     ]
    },
    {
     "name": "stderr",
     "output_type": "stream",
     "text": [
      "Received notification from DBMS server: {severity: WARNING} {code: Neo.ClientNotification.Statement.FeatureDeprecationWarning} {category: DEPRECATION} {title: This feature is deprecated and will be removed in future versions.} {description: The query used a deprecated procedure. ('db.create.setVectorProperty' has been replaced by 'db.create.setNodeVectorProperty')} {position: line: 1, column: 80, offset: 79} for query: \"UNWIND $data AS row CALL { WITH row MERGE (c:`Chunk` {id: row.id}) WITH c, row CALL db.create.setVectorProperty(c, 'embedding', row.embedding) YIELD node SET c.`text` = row.text SET c += row.metadata } IN TRANSACTIONS OF 1000 ROWS\"\n"
     ]
    },
    {
     "name": "stdout",
     "output_type": "stream",
     "text": [
      "Done\n"
     ]
    }
   ],
   "source": [
    "store_data_neo4j(processed_docs)"
   ]
  },
  {
   "cell_type": "markdown",
   "id": "59d979f7",
   "metadata": {},
   "source": [
    "### Testing"
   ]
  },
  {
   "cell_type": "markdown",
   "id": "0f86dfa5",
   "metadata": {},
   "source": [
    "We have our embedded vectors in NEO4J:\n",
    "<img src=\"img/neo4J_vectors.jpg\">"
   ]
  },
  {
   "cell_type": "code",
   "execution_count": 38,
   "id": "39092dc0",
   "metadata": {},
   "outputs": [
    {
     "name": "stdout",
     "output_type": "stream",
     "text": [
      "\u001b[1;31;35m\n",
      "Your query: What is the CEO of this company?\n",
      "\u001b[1;31;34m\n",
      "Samuel Harris Altman (born April 22, 1985) is an American entrepreneur and investor best known as the CEO of OpenAI since 2019 (he was briefly fired and reinstated in November 2023). He is also the chairman of clean energy companies Oklo Inc. and Helion Energy. Altman is considered to be one of the leading figures of the AI boom. He dropped out of Stanford University after two years and founded Loopt, a mobile social networking service, raising more than $30 million in venture capital. In 2011, Altman joined Y Combinator, a startup accelerator, and was its president from 2014 to 2019.\n",
      "\n",
      "\n",
      "== Early life and education ==\n",
      "Altman was born on April 22, 1985, in Chicago, Illinois, into a Jewish family, and grew up in St. Louis, Missouri. His mother is a dermatologist, while his father was a real estate broker. Altman is the eldest of four siblings. At the age of eight, he received his first computer, an Apple Macintosh, and began to learn how to code and take apart computer hardware. He attended John Burroughs School, a private school in Ladue, Missouri. In 2005, after two years at Stanford University studying computer science, he dropped out without earning a bachelor's degree.\n",
      "\n",
      "\n",
      "== Career ==\n",
      "\n",
      "\n",
      "=== Early career ===\n",
      "In 2005, at the age of 19, Altman co-founded Loopt, a location-based social networking mobile application. As CEO, Altman raised more than $30 million in venture capital for the company, including an initial investment of $5 million from Patrick Chung of Xfund and his team at New Enterprise Associates, which was later followed by investments from Sequoia Capital and Y Combinator. In March 2012, after Loopt failed to gain traction with enough users, the company was acquired by the Green Dot Corporation for $43.4 million. The following month, Altman co-founded Hydrazine Capital with his brother, Jack Altman, which is still in operation.\n",
      "Altman became a partner at Y Combinator, a startup accelerator that invests in a wide range of startups, in 2011, initially working there on a part-time basis. In February 2014, Altman was named president of Y Combinator by co-founder Paul Graham. In a 2014 blog post, Altman said that the total valuation of Y Combinator companies had surpassed $65 billion, including Airbnb, Dropbox, Zenefits and Stripe. In September 2016, Altman announced his expanded role as president of YC Group, which included Y Combinator and other units. Altman said that he hoped to expand Y Combinator to fund 1,000 new companies per year. He also tried to expand the types of companies funded by YC, especially \"hard technology\" companies. In October 2015, Altman announced YC Continuity, a $700 million equity fund investing in YC companies as they matured. A week earlier, Altman had introduced Y Combinator Research, a non-profit research lab, and donated $10 million to fund it. In March 2019, YC announced Altman's transition from the president of the company to a less hands-on role as chairman of the board, for him to focus on OpenAI. This decision came shortly after YC announced it would be moving its headquarters to San Francisco. As of early 2020, he was no longer affiliated with YC. It was later reported that Altman was fired from YC and had appointed himself chairman without authorization.\n",
      "Altman co-founded Tools For Humanity in 2019, a company that builds and distributes systems designed to scan people's eyes to provide authentication and verify proof of personhood to counter fraud. People who agree to have their eyes scanned are compensated with a cryptocurrency called Worldcoin. Tools For Humanity describes its cryptocurrency as similar to universal basic income. A Hong Kong regulator directed Worldcoin to cease operations there because scanning and collecting iris and face images of the public using its devices was \"unnecessary and excessive\". \n",
      "Altman has several other investments, in companies including Humane, the world's first wearable computer powered by AI, Retro Biosciences, a research company aiming to ext\n",
      "\u001b[1;31;32m\n",
      "Powered by Azure OpenAI & NEO4J. Done in 538 ms\n"
     ]
    }
   ],
   "source": [
    "query = \"What is the CEO of this company?\"\n",
    "\n",
    "ask_neo4j_vector(index, query)"
   ]
  },
  {
   "cell_type": "code",
   "execution_count": 39,
   "id": "fef3f3d9",
   "metadata": {},
   "outputs": [
    {
     "name": "stdout",
     "output_type": "stream",
     "text": [
      "\u001b[1;31;35m\n",
      "Your query: What is openAI?\n",
      "\u001b[1;31;34m\n",
      "OpenAI is an American artificial intelligence (AI) research organization founded in December 2015 and headquartered in San Francisco. Its mission is to develop \"safe and beneficial\" artificial general intelligence, which it defines as \"highly autonomous systems that outperform humans at most economically valuable work\". As a leading organization in the ongoing AI boom, OpenAI is known for the GPT family of large language models, the DALL-E series of text-to-image models, and a text-to-video model named Sora. Its release of ChatGPT in November 2022 has been credited with catalyzing widespread interest in generative AI.\n",
      "The organization consists of the non-profit OpenAI, Inc. registered in Delaware and its for-profit subsidiary OpenAI Global, LLC. Microsoft owns roughly 49% of OpenAI's equity, having invested US$13 billion. It also provides computing resources to OpenAI through its Microsoft Azure cloud platform.\n",
      "In 2023 and 2024, OpenAI faced multiple lawsuits for alleged copyright infringement against authors and media companies whose work was used to train some of OpenAI's products. In November 2023, OpenAI's board removed Sam Altman as CEO citing a lack of confidence in him, and then reinstated him five days later after negotiations resulting in a reconstructed board. OpenAI's board has since added former US Treasury Secretary Lawrence Summers and former National Security Agency head Paul Nakasone.\n",
      "\n",
      "\n",
      "== History ==\n",
      "\n",
      "\n",
      "=== 2015–2018: Non-profit beginnings ===\n",
      "\n",
      "In December 2015, OpenAI was founded by Sam Altman, Elon Musk, Ilya Sutskever, Greg Brockman, Trevor Blackwell, Vicki Cheung, Andrej Karpathy, Durk Kingma, John Schulman, Pamela Vagata, and Wojciech Zaremba, with Sam Altman and Elon Musk as the co-chairs. $1 billion in total was pledged by Sam Altman, Greg Brockman, Elon Musk, Reid Hoffman, Jessica Livingston, Peter Thiel, Amazon Web Services (AWS), Infosys, and YC Research. The actual collected total amount of contributions was only $130 million until 2019. According to an investigation led by TechCrunch, Musk was its largest donor while YC Research did not contribute anything at all. The organization stated it would \"freely collaborate\" with other institutions and researchers by making its patents and research open to the public. OpenAI was headquartered at the Pioneer Building in the Mission District, San Francisco.\n",
      "According to Wired, Brockman met with Yoshua Bengio, one of the \"founding fathers\" of deep learning, and drew up a list of the \"best researchers in the field\". Brockman was able to hire nine of them as the first employees in December 2015. In 2016, OpenAI paid corporate-level (rather than nonprofit-level) salaries, but did not pay AI researchers salaries comparable to those of Facebook or Google.\n",
      "Microsoft's Peter Lee stated that the cost of a top AI researcher exceeds the cost of a top NFL quarterback prospect. OpenAI's potential and mission drew these researchers to the firm; a Google employee said he was willing to leave Google for OpenAI \"partly because of the very strong group of people and, to a very large extent, because of its mission.\" Brockman stated that \"the best thing that I could imagine doing was moving humanity closer to building real AI in a safe way.\" OpenAI co-founder Wojciech Zaremba stated that he turned down \"borderline crazy\" offers of two to three times his market value to join OpenAI instead.\n",
      "In April 2016, OpenAI released a public beta of \"OpenAI Gym\", its platform for reinforcement learning research. Nvidia gifted its first DGX-1 supercomputer to OpenAI in August 2016 to help it train larger and more complex AI models with the capability of reducing processing time from six days to two hours. In December 2016, OpenAI released \"Universe\", a software platform for measuring and training an AI's general intelligence across the world's supply of games, websites, and other applications.\n",
      "In 2017, OpenAI spent $7.9 million, or a quarter of its functional expenses, on cloud computing alone\n",
      "\u001b[1;31;32m\n",
      "Powered by Azure OpenAI & NEO4J. Done in 459 ms\n"
     ]
    }
   ],
   "source": [
    "query = \"What is openAI?\"\n",
    "\n",
    "ask_neo4j_vector(index, query)"
   ]
  },
  {
   "cell_type": "code",
   "execution_count": 40,
   "id": "45be953d",
   "metadata": {},
   "outputs": [
    {
     "name": "stdout",
     "output_type": "stream",
     "text": [
      "\u001b[1;31;35m\n",
      "Your query: What can you tell about GPT-4?\n",
      "\u001b[1;31;34m\n",
      "Generative Pre-trained Transformer 4 (GPT-4) is a multimodal large language model created by OpenAI, and the fourth in its series of GPT foundation models. It was launched on March 14, 2023, and made publicly available via the paid chatbot product ChatGPT Plus, via OpenAI's API, and via the free chatbot Microsoft Copilot.  As a transformer-based model, GPT-4 uses a paradigm where pre-training using both public data and \"data licensed from third-party providers\" is used to predict the next token. After this step, the model was then fine-tuned with reinforcement learning feedback from humans and AI for human alignment and policy compliance.: 2 \n",
      "Observers reported that the iteration of ChatGPT using GPT-4 was an improvement on the previous iteration based on GPT-3.5, with the caveat that GPT-4 retains some of the problems with earlier revisions. GPT-4, equipped with vision capabilities (GPT-4V), is capable of taking images as input on ChatGPT. OpenAI has declined to reveal various technical details and statistics about GPT-4, such as the precise size of the model.\n",
      "\n",
      "\n",
      "== Background ==\n",
      " \n",
      "\n",
      "OpenAI introduced the first GPT model (GPT-1) in 2018, publishing a paper called \"Improving Language Understanding by Generative Pre-Training.\" It was based on the transformer architecture and trained on a large corpus of books. The next year, they introduced GPT-2, a larger model that could generate coherent text. In 2020, they introduced GPT-3, a model with over 100 times as many parameters as GPT-2, that could perform various tasks with few examples. GPT-3 was further improved into GPT-3.5, which was used to create the chatbot product ChatGPT.\n",
      "Rumors claim that GPT-4 has 1.76 trillion parameters, which was first estimated by the speed it was running and by George Hotz.\n",
      "\n",
      "\n",
      "== Capabilities ==\n",
      "OpenAI stated that GPT-4 is \"more reliable, creative, and able to handle much more nuanced instructions than GPT-3.5.\" They produced two versions of GPT-4, with context windows of 8,192 and 32,768 tokens, a significant improvement over GPT-3.5 and GPT-3, which were limited to 4,096 and 2,049 tokens respectively. Some of the capabilities of GPT-4 were predicted by OpenAI before training it, although other capabilities remained hard to predict due to breaks in downstream scaling laws. Unlike its predecessors, GPT-4 is a multimodal model: it can take images as well as text as input; this gives it the ability to describe the humor in unusual images, summarize text from screenshots, and answer exam questions that contain diagrams. It can now interact with users through spoken words and respond to images, allowing for more natural conversations and the ability to provide suggestions or answers based on photo uploads.\n",
      "To gain further control over GPT-4, OpenAI introduced the \"system message\", a directive in natural language given to GPT-4 in order to specify its tone of voice and task. For example, the system message can instruct the model to \"be a Shakespearean pirate\", in which case it will respond in rhyming, Shakespearean prose, or request it to \"always write the output of [its] response in JSON\", in which case the model will do so, adding keys and values as it sees fit to match the structure of its reply. In the examples provided by OpenAI, GPT-4 refused to deviate from its system message despite requests to do otherwise by the user during the conversation.\n",
      "When instructed to do so, GPT-4 can interact with external interfaces. For example, the model could be instructed to enclose a query within <search></search> tags to perform a web search, the result of which would be inserted into the model's prompt to allow it to form a response. This allows the model to perform tasks beyond its normal text-prediction capabilities, such as using APIs, generating images, and accessing and summarizing webpages.\n",
      "A 2023 article in Nature stated programmers have found GPT-4 useful for assisting in coding tasks (despite its propensity for error), such as finding errors in existing\n",
      "\u001b[1;31;32m\n",
      "Powered by Azure OpenAI & NEO4J. Done in 456 ms\n"
     ]
    }
   ],
   "source": [
    "query = \"What can you tell about GPT-4?\"\n",
    "\n",
    "ask_neo4j_vector(index, query)"
   ]
  },
  {
   "cell_type": "code",
   "execution_count": 41,
   "id": "de946c1f",
   "metadata": {},
   "outputs": [
    {
     "name": "stdout",
     "output_type": "stream",
     "text": [
      "\u001b[1;31;35m\n",
      "Your query: What can you tell about Microsoft and OpenAI?\n",
      "\u001b[1;31;34m\n",
      "OpenAI is an American artificial intelligence (AI) research organization founded in December 2015 and headquartered in San Francisco. Its mission is to develop \"safe and beneficial\" artificial general intelligence, which it defines as \"highly autonomous systems that outperform humans at most economically valuable work\". As a leading organization in the ongoing AI boom, OpenAI is known for the GPT family of large language models, the DALL-E series of text-to-image models, and a text-to-video model named Sora. Its release of ChatGPT in November 2022 has been credited with catalyzing widespread interest in generative AI.\n",
      "The organization consists of the non-profit OpenAI, Inc. registered in Delaware and its for-profit subsidiary OpenAI Global, LLC. Microsoft owns roughly 49% of OpenAI's equity, having invested US$13 billion. It also provides computing resources to OpenAI through its Microsoft Azure cloud platform.\n",
      "In 2023 and 2024, OpenAI faced multiple lawsuits for alleged copyright infringement against authors and media companies whose work was used to train some of OpenAI's products. In November 2023, OpenAI's board removed Sam Altman as CEO citing a lack of confidence in him, and then reinstated him five days later after negotiations resulting in a reconstructed board. OpenAI's board has since added former US Treasury Secretary Lawrence Summers and former National Security Agency head Paul Nakasone.\n",
      "\n",
      "\n",
      "== History ==\n",
      "\n",
      "\n",
      "=== 2015–2018: Non-profit beginnings ===\n",
      "\n",
      "In December 2015, OpenAI was founded by Sam Altman, Elon Musk, Ilya Sutskever, Greg Brockman, Trevor Blackwell, Vicki Cheung, Andrej Karpathy, Durk Kingma, John Schulman, Pamela Vagata, and Wojciech Zaremba, with Sam Altman and Elon Musk as the co-chairs. $1 billion in total was pledged by Sam Altman, Greg Brockman, Elon Musk, Reid Hoffman, Jessica Livingston, Peter Thiel, Amazon Web Services (AWS), Infosys, and YC Research. The actual collected total amount of contributions was only $130 million until 2019. According to an investigation led by TechCrunch, Musk was its largest donor while YC Research did not contribute anything at all. The organization stated it would \"freely collaborate\" with other institutions and researchers by making its patents and research open to the public. OpenAI was headquartered at the Pioneer Building in the Mission District, San Francisco.\n",
      "According to Wired, Brockman met with Yoshua Bengio, one of the \"founding fathers\" of deep learning, and drew up a list of the \"best researchers in the field\". Brockman was able to hire nine of them as the first employees in December 2015. In 2016, OpenAI paid corporate-level (rather than nonprofit-level) salaries, but did not pay AI researchers salaries comparable to those of Facebook or Google.\n",
      "Microsoft's Peter Lee stated that the cost of a top AI researcher exceeds the cost of a top NFL quarterback prospect. OpenAI's potential and mission drew these researchers to the firm; a Google employee said he was willing to leave Google for OpenAI \"partly because of the very strong group of people and, to a very large extent, because of its mission.\" Brockman stated that \"the best thing that I could imagine doing was moving humanity closer to building real AI in a safe way.\" OpenAI co-founder Wojciech Zaremba stated that he turned down \"borderline crazy\" offers of two to three times his market value to join OpenAI instead.\n",
      "In April 2016, OpenAI released a public beta of \"OpenAI Gym\", its platform for reinforcement learning research. Nvidia gifted its first DGX-1 supercomputer to OpenAI in August 2016 to help it train larger and more complex AI models with the capability of reducing processing time from six days to two hours. In December 2016, OpenAI released \"Universe\", a software platform for measuring and training an AI's general intelligence across the world's supply of games, websites, and other applications.\n",
      "In 2017, OpenAI spent $7.9 million, or a quarter of its functional expenses, on cloud computing alone\n",
      "\u001b[1;31;32m\n",
      "Powered by Azure OpenAI & NEO4J. Done in 433 ms\n"
     ]
    }
   ],
   "source": [
    "query = \"What can you tell about Microsoft and OpenAI?\"\n",
    "\n",
    "ask_neo4j_vector(index, query)"
   ]
  },
  {
   "cell_type": "code",
   "execution_count": null,
   "id": "cdb766d4",
   "metadata": {},
   "outputs": [],
   "source": []
  },
  {
   "cell_type": "code",
   "execution_count": null,
   "id": "a7a992ea",
   "metadata": {},
   "outputs": [],
   "source": []
  },
  {
   "cell_type": "code",
   "execution_count": null,
   "id": "aa90bd40",
   "metadata": {},
   "outputs": [],
   "source": []
  },
  {
   "cell_type": "code",
   "execution_count": null,
   "id": "1996f268",
   "metadata": {},
   "outputs": [],
   "source": []
  }
 ],
 "metadata": {
  "kernelspec": {
   "display_name": "Python 3.10 - SDK v2",
   "language": "python",
   "name": "python310-sdkv2"
  },
  "language_info": {
   "codemirror_mode": {
    "name": "ipython",
    "version": 3
   },
   "file_extension": ".py",
   "mimetype": "text/x-python",
   "name": "python",
   "nbconvert_exporter": "python",
   "pygments_lexer": "ipython3",
   "version": "3.10.11"
  }
 },
 "nbformat": 4,
 "nbformat_minor": 5
}
